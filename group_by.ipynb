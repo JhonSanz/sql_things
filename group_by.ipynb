{
 "cells": [
  {
   "cell_type": "markdown",
   "metadata": {},
   "source": [
    "### Group By Having and Count"
   ]
  },
  {
   "cell_type": "markdown",
   "metadata": {},
   "source": [
    "Now that you can select raw data, you're ready to learn **how to group** your data and **count things** within those groups.\n",
    "\n",
    "This can help you answer questions like:\n",
    "\n",
    "- How many of each kind of fruit has our store sold?\n",
    "- How many species of animal has the vet office treated?"
   ]
  },
  {
   "cell_type": "markdown",
   "metadata": {},
   "source": [
    "##### COUNT\n",
    "- Returns a count of things. If you pass it the name of a column, it will return the number of entries in that column.\n",
    "- COUNT() is an example of an aggregate function, which takes many values and returns one."
   ]
  },
  {
   "cell_type": "markdown",
   "metadata": {},
   "source": [
    "##### GROUP BY\n",
    "- It takes the name of one or more columns, and **treats all rows with the same value in that column as a single group** when you apply aggregate functions\n"
   ]
  },
  {
   "cell_type": "markdown",
   "metadata": {},
   "source": [
    "##### GROUP BY ... HAVING\n",
    "- HAVING is used in combination with GROUP BY to ignore groups that don't meet certain criteria."
   ]
  },
  {
   "cell_type": "markdown",
   "metadata": {},
   "source": [
    "Here is an example. Suppose this table:\n",
    "\n",
    "|  ID   |        Name        | Animal |\n",
    "| :---: | :----------------: | :----: |\n",
    "|   1   | Dr. Harris Bonkers | Rabbit |\n",
    "|   2   |        Moon        |  Dog   |\n",
    "|   3   |       Ripley       |  Cat   |\n",
    "|   4   |        Tom         |  Cat   |"
   ]
  },
  {
   "cell_type": "code",
   "execution_count": 1,
   "metadata": {},
   "outputs": [],
   "source": [
    "# First, you can SELECT directly from a COUNT command:\n",
    "# It means that COUNT adds a new colum\n",
    "QUERY = \"\"\"\n",
    "    SELECT COUNT(ID)\n",
    "    FROM 'bigquery-public-data.pet_records.pets'\n",
    "\"\"\"\n",
    "# It's going to return something like this\n",
    "response = {\n",
    "    'f0_': 4\n",
    "}"
   ]
  },
  {
   "cell_type": "code",
   "execution_count": 2,
   "metadata": {},
   "outputs": [],
   "source": [
    "# And here is an example with all techniques together\n",
    "\n",
    "# For example, say we want to know how many of each type of animal\n",
    "# we have in the pets table.\n",
    "\n",
    "# We can use GROUP BY to group together rows that have the same\n",
    "# value in the Animal column, while using COUNT() to find out\n",
    "# how many ID's we have in each group with value > 1 using HAVING.\n",
    "\n",
    "QUERY = \"\"\"\n",
    "    SELECT Animal COUNT(ID)\n",
    "    FROM 'bigquery-public-data.pet_records.pets'\n",
    "    GROUP BY Animal\n",
    "    HAVING COUNT(ID) > 1\n",
    "\"\"\"\n",
    "# Other animals have just 1 records.\n",
    "response = {\n",
    "    'Animal': 'Cat',\n",
    "    'f0_': 2\n",
    "}"
   ]
  },
  {
   "cell_type": "markdown",
   "metadata": {},
   "source": [
    "##### Important ⚠️\n",
    "\n",
    "Let's consider this two queries.\n",
    "\n",
    "- The first has two variables: **parent** and **id**\n",
    "- The second has three variables: **author**, **parent** and **id**"
   ]
  },
  {
   "cell_type": "code",
   "execution_count": 3,
   "metadata": {},
   "outputs": [],
   "source": [
    "query_good = \"\"\"\n",
    "    SELECT parent, COUNT(id)\n",
    "    FROM `bigquery-public-data.hacker_news.comments`\n",
    "    GROUP BY parent\n",
    "\"\"\"\n",
    "query_bad = \"\"\"\n",
    "    SELECT author, parent, COUNT(id)\n",
    "    FROM `bigquery-public-data.hacker_news.comments`\n",
    "    GROUP BY parent\n",
    "\"\"\""
   ]
  },
  {
   "cell_type": "markdown",
   "metadata": {},
   "source": [
    "The second one is bad because **author** is not beign assigned either GROUP BY or COUNT commands.\n",
    "\n",
    "From kaggle https://www.kaggle.com/dansbecker/group-by-having-count#Note-on-using-GROUP-BY\n",
    "\n",
    "Note on using **GROUP BY**\n",
    "\n",
    "Note that because it tells SQL how to apply aggregate functions, it doesn't make sense to use GROUP BY without an aggregate function. Similarly, if you have any GROUP BY clause, then all variables must be passed to either a\n",
    "\n",
    "- **GROUP BY** command, or\n",
    "- an **aggregation** function."
   ]
  },
  {
   "cell_type": "markdown",
   "metadata": {},
   "source": [
    "##### Example with real dataset"
   ]
  }
 ],
 "metadata": {
  "interpreter": {
   "hash": "aef50d216617d23c44137179b38f179acf62fcbd1f8228dad7a86fdb424bdac2"
  },
  "kernelspec": {
   "display_name": "Python 3.9.5 ('venv': venv)",
   "language": "python",
   "name": "python3"
  },
  "language_info": {
   "codemirror_mode": {
    "name": "ipython",
    "version": 3
   },
   "file_extension": ".py",
   "mimetype": "text/x-python",
   "name": "python",
   "nbconvert_exporter": "python",
   "pygments_lexer": "ipython3",
   "version": "3.9.5"
  },
  "orig_nbformat": 4
 },
 "nbformat": 4,
 "nbformat_minor": 2
}
