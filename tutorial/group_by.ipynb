{
 "cells": [
  {
   "cell_type": "markdown",
   "metadata": {},
   "source": [
    "### Group By Having and Count"
   ]
  },
  {
   "cell_type": "markdown",
   "metadata": {},
   "source": [
    "Now that you can select raw data, you're ready to learn **how to group** your data and **count things** within those groups.\n",
    "\n",
    "This can help you answer questions like:\n",
    "\n",
    "- How many of each kind of fruit has our store sold?\n",
    "- How many species of animal has the vet office treated?"
   ]
  },
  {
   "cell_type": "markdown",
   "metadata": {},
   "source": [
    "##### COUNT\n",
    "- Returns a count of things. If you pass it the name of a column, it will return the number of entries in that column.\n",
    "- COUNT() is an example of an aggregate function, which takes many values and returns one."
   ]
  },
  {
   "cell_type": "markdown",
   "metadata": {},
   "source": [
    "##### GROUP BY\n",
    "- It takes the name of one or more columns, and **treats all rows with the same value in that column as a single group** when you apply aggregate functions\n"
   ]
  },
  {
   "cell_type": "markdown",
   "metadata": {},
   "source": [
    "##### GROUP BY ... HAVING\n",
    "- HAVING is used in combination with GROUP BY to ignore groups that don't meet certain criteria."
   ]
  },
  {
   "cell_type": "markdown",
   "metadata": {},
   "source": [
    "Here is an example. Suppose this table:\n",
    "\n",
    "|  ID   |        Name        | Animal |\n",
    "| :---: | :----------------: | :----: |\n",
    "|   1   | Dr. Harris Bonkers | Rabbit |\n",
    "|   2   |        Moon        |  Dog   |\n",
    "|   3   |       Ripley       |  Cat   |\n",
    "|   4   |        Tom         |  Cat   |"
   ]
  },
  {
   "cell_type": "code",
   "execution_count": 1,
   "metadata": {},
   "outputs": [],
   "source": [
    "# First, you can SELECT directly from a COUNT command:\n",
    "# It means that COUNT adds a new colum\n",
    "QUERY = \"\"\"\n",
    "    SELECT COUNT(ID)\n",
    "    FROM 'bigquery-public-data.pet_records.pets'\n",
    "\"\"\"\n",
    "# It's going to return something like this\n",
    "response = {\n",
    "    'f0_': 4\n",
    "}"
   ]
  },
  {
   "cell_type": "code",
   "execution_count": 2,
   "metadata": {},
   "outputs": [],
   "source": [
    "# And here is an example with all techniques together\n",
    "\n",
    "# For example, say we want to know how many of each type of animal\n",
    "# we have in the pets table.\n",
    "\n",
    "# We can use GROUP BY to group together rows that have the same\n",
    "# value in the Animal column, while using COUNT() to find out\n",
    "# how many ID's we have in each group with value > 1 using HAVING.\n",
    "\n",
    "QUERY = \"\"\"\n",
    "    SELECT Animal COUNT(ID)\n",
    "    FROM 'bigquery-public-data.pet_records.pets'\n",
    "    GROUP BY Animal\n",
    "    HAVING COUNT(ID) > 1\n",
    "\"\"\"\n",
    "# Other animals have just 1 records.\n",
    "response = {\n",
    "    'Animal': 'Cat',\n",
    "    'f0_': 2\n",
    "}"
   ]
  },
  {
   "cell_type": "markdown",
   "metadata": {},
   "source": [
    "##### Important ⚠️\n",
    "\n",
    "Let's consider this two queries.\n",
    "\n",
    "- The first has two variables: **parent** and **id**\n",
    "- The second has three variables: **author**, **parent** and **id**"
   ]
  },
  {
   "cell_type": "code",
   "execution_count": 3,
   "metadata": {},
   "outputs": [],
   "source": [
    "query_good = \"\"\"\n",
    "    SELECT parent, COUNT(id)\n",
    "    FROM `bigquery-public-data.hacker_news.comments`\n",
    "    GROUP BY parent\n",
    "\"\"\"\n",
    "query_bad = \"\"\"\n",
    "    SELECT author, parent, COUNT(id)\n",
    "    FROM `bigquery-public-data.hacker_news.comments`\n",
    "    GROUP BY parent\n",
    "\"\"\""
   ]
  },
  {
   "cell_type": "markdown",
   "metadata": {},
   "source": [
    "The second one is bad because **author** is not beign assigned either GROUP BY or COUNT commands.\n",
    "\n",
    "From kaggle https://www.kaggle.com/dansbecker/group-by-having-count#Note-on-using-GROUP-BY\n",
    "\n",
    "Note on using **GROUP BY**\n",
    "\n",
    "Note that because it tells SQL how to apply aggregate functions, it doesn't make sense to use GROUP BY without an aggregate function. Similarly, if you have any GROUP BY clause, then all variables must be passed to either a\n",
    "\n",
    "- **GROUP BY** command, or\n",
    "- an **aggregation** function."
   ]
  },
  {
   "cell_type": "markdown",
   "metadata": {},
   "source": [
    "##### Example with real dataset"
   ]
  },
  {
   "cell_type": "code",
   "execution_count": 7,
   "metadata": {},
   "outputs": [
    {
     "data": {
      "text/html": [
       "<div>\n",
       "<style scoped>\n",
       "    .dataframe tbody tr th:only-of-type {\n",
       "        vertical-align: middle;\n",
       "    }\n",
       "\n",
       "    .dataframe tbody tr th {\n",
       "        vertical-align: top;\n",
       "    }\n",
       "\n",
       "    .dataframe thead th {\n",
       "        text-align: right;\n",
       "    }\n",
       "</style>\n",
       "<table border=\"1\" class=\"dataframe\">\n",
       "  <thead>\n",
       "    <tr style=\"text-align: right;\">\n",
       "      <th></th>\n",
       "      <th>id</th>\n",
       "      <th>by</th>\n",
       "      <th>author</th>\n",
       "      <th>time</th>\n",
       "      <th>time_ts</th>\n",
       "      <th>text</th>\n",
       "      <th>parent</th>\n",
       "      <th>deleted</th>\n",
       "      <th>dead</th>\n",
       "      <th>ranking</th>\n",
       "    </tr>\n",
       "  </thead>\n",
       "  <tbody>\n",
       "    <tr>\n",
       "      <th>0</th>\n",
       "      <td>2701393</td>\n",
       "      <td>5l</td>\n",
       "      <td>5l</td>\n",
       "      <td>1309184881</td>\n",
       "      <td>2011-06-27 14:28:01+00:00</td>\n",
       "      <td>And the glazier who fixed all the broken windo...</td>\n",
       "      <td>2701243</td>\n",
       "      <td>None</td>\n",
       "      <td>None</td>\n",
       "      <td>0</td>\n",
       "    </tr>\n",
       "    <tr>\n",
       "      <th>1</th>\n",
       "      <td>5811403</td>\n",
       "      <td>99</td>\n",
       "      <td>99</td>\n",
       "      <td>1370234048</td>\n",
       "      <td>2013-06-03 04:34:08+00:00</td>\n",
       "      <td>Does canada have the equivalent of H1B/Green c...</td>\n",
       "      <td>5804452</td>\n",
       "      <td>None</td>\n",
       "      <td>None</td>\n",
       "      <td>0</td>\n",
       "    </tr>\n",
       "    <tr>\n",
       "      <th>2</th>\n",
       "      <td>21623</td>\n",
       "      <td>AF</td>\n",
       "      <td>AF</td>\n",
       "      <td>1178992400</td>\n",
       "      <td>2007-05-12 17:53:20+00:00</td>\n",
       "      <td>Speaking of Rails, there are other options in ...</td>\n",
       "      <td>21611</td>\n",
       "      <td>None</td>\n",
       "      <td>None</td>\n",
       "      <td>0</td>\n",
       "    </tr>\n",
       "    <tr>\n",
       "      <th>3</th>\n",
       "      <td>10159727</td>\n",
       "      <td>EA</td>\n",
       "      <td>EA</td>\n",
       "      <td>1441206574</td>\n",
       "      <td>2015-09-02 15:09:34+00:00</td>\n",
       "      <td>Humans and large livestock (and maybe even pet...</td>\n",
       "      <td>10159396</td>\n",
       "      <td>None</td>\n",
       "      <td>None</td>\n",
       "      <td>0</td>\n",
       "    </tr>\n",
       "    <tr>\n",
       "      <th>4</th>\n",
       "      <td>2988424</td>\n",
       "      <td>Iv</td>\n",
       "      <td>Iv</td>\n",
       "      <td>1315853580</td>\n",
       "      <td>2011-09-12 18:53:00+00:00</td>\n",
       "      <td>I must say I reacted in the same way when I re...</td>\n",
       "      <td>2988179</td>\n",
       "      <td>None</td>\n",
       "      <td>None</td>\n",
       "      <td>0</td>\n",
       "    </tr>\n",
       "  </tbody>\n",
       "</table>\n",
       "</div>"
      ],
      "text/plain": [
       "         id  by author        time                   time_ts  \\\n",
       "0   2701393  5l     5l  1309184881 2011-06-27 14:28:01+00:00   \n",
       "1   5811403  99     99  1370234048 2013-06-03 04:34:08+00:00   \n",
       "2     21623  AF     AF  1178992400 2007-05-12 17:53:20+00:00   \n",
       "3  10159727  EA     EA  1441206574 2015-09-02 15:09:34+00:00   \n",
       "4   2988424  Iv     Iv  1315853580 2011-09-12 18:53:00+00:00   \n",
       "\n",
       "                                                text    parent deleted  dead  \\\n",
       "0  And the glazier who fixed all the broken windo...   2701243    None  None   \n",
       "1  Does canada have the equivalent of H1B/Green c...   5804452    None  None   \n",
       "2  Speaking of Rails, there are other options in ...     21611    None  None   \n",
       "3  Humans and large livestock (and maybe even pet...  10159396    None  None   \n",
       "4  I must say I reacted in the same way when I re...   2988179    None  None   \n",
       "\n",
       "   ranking  \n",
       "0        0  \n",
       "1        0  \n",
       "2        0  \n",
       "3        0  \n",
       "4        0  "
      ]
     },
     "execution_count": 7,
     "metadata": {},
     "output_type": "execute_result"
    }
   ],
   "source": [
    "from google.cloud import bigquery\n",
    "from google.oauth2 import service_account\n",
    "\n",
    "credentials = service_account.Credentials.from_service_account_file(\"secrets.json\")\n",
    "client = bigquery.Client(credentials=credentials)\n",
    "dataset = client.get_dataset('bigquery-public-data.hacker_news')\n",
    "table_ref = dataset.table(\"comments\")\n",
    "table = client.get_table(table_ref)\n",
    "df = client.list_rows(table, max_results=5).to_dataframe()\n",
    "df"
   ]
  },
  {
   "cell_type": "code",
   "execution_count": 10,
   "metadata": {},
   "outputs": [
    {
     "data": {
      "text/html": [
       "<div>\n",
       "<style scoped>\n",
       "    .dataframe tbody tr th:only-of-type {\n",
       "        vertical-align: middle;\n",
       "    }\n",
       "\n",
       "    .dataframe tbody tr th {\n",
       "        vertical-align: top;\n",
       "    }\n",
       "\n",
       "    .dataframe thead th {\n",
       "        text-align: right;\n",
       "    }\n",
       "</style>\n",
       "<table border=\"1\" class=\"dataframe\">\n",
       "  <thead>\n",
       "    <tr style=\"text-align: right;\">\n",
       "      <th></th>\n",
       "      <th>parent</th>\n",
       "      <th>f0_</th>\n",
       "    </tr>\n",
       "  </thead>\n",
       "  <tbody>\n",
       "    <tr>\n",
       "      <th>0</th>\n",
       "      <td>4332978</td>\n",
       "      <td>53</td>\n",
       "    </tr>\n",
       "    <tr>\n",
       "      <th>1</th>\n",
       "      <td>2970550</td>\n",
       "      <td>63</td>\n",
       "    </tr>\n",
       "    <tr>\n",
       "      <th>2</th>\n",
       "      <td>3353593</td>\n",
       "      <td>68</td>\n",
       "    </tr>\n",
       "    <tr>\n",
       "      <th>3</th>\n",
       "      <td>3734303</td>\n",
       "      <td>56</td>\n",
       "    </tr>\n",
       "    <tr>\n",
       "      <th>4</th>\n",
       "      <td>5048699</td>\n",
       "      <td>61</td>\n",
       "    </tr>\n",
       "    <tr>\n",
       "      <th>...</th>\n",
       "      <td>...</td>\n",
       "      <td>...</td>\n",
       "    </tr>\n",
       "    <tr>\n",
       "      <th>77363</th>\n",
       "      <td>6917194</td>\n",
       "      <td>37</td>\n",
       "    </tr>\n",
       "    <tr>\n",
       "      <th>77364</th>\n",
       "      <td>9150163</td>\n",
       "      <td>37</td>\n",
       "    </tr>\n",
       "    <tr>\n",
       "      <th>77365</th>\n",
       "      <td>4917828</td>\n",
       "      <td>37</td>\n",
       "    </tr>\n",
       "    <tr>\n",
       "      <th>77366</th>\n",
       "      <td>8822723</td>\n",
       "      <td>37</td>\n",
       "    </tr>\n",
       "    <tr>\n",
       "      <th>77367</th>\n",
       "      <td>7609030</td>\n",
       "      <td>37</td>\n",
       "    </tr>\n",
       "  </tbody>\n",
       "</table>\n",
       "<p>77368 rows × 2 columns</p>\n",
       "</div>"
      ],
      "text/plain": [
       "        parent  f0_\n",
       "0      4332978   53\n",
       "1      2970550   63\n",
       "2      3353593   68\n",
       "3      3734303   56\n",
       "4      5048699   61\n",
       "...        ...  ...\n",
       "77363  6917194   37\n",
       "77364  9150163   37\n",
       "77365  4917828   37\n",
       "77366  8822723   37\n",
       "77367  7609030   37\n",
       "\n",
       "[77368 rows x 2 columns]"
      ]
     },
     "execution_count": 10,
     "metadata": {},
     "output_type": "execute_result"
    }
   ],
   "source": [
    "# Query to select comments that received more than 10 replies\n",
    "\n",
    "# we can GROUP BY the parent column and COUNT() the id column in\n",
    "# order to figure out the number of comments that were made as\n",
    "# responses to a specific comment\n",
    "query_popular = \"\"\"\n",
    "    SELECT parent, COUNT(id)\n",
    "    FROM `bigquery-public-data.hacker_news.comments`\n",
    "    GROUP BY parent\n",
    "    HAVING COUNT(id) > 10\n",
    "\"\"\"\n",
    "query_job = client.query(query_popular)\n",
    "popular_comments = query_job.to_dataframe()\n",
    "popular_comments"
   ]
  },
  {
   "cell_type": "markdown",
   "metadata": {},
   "source": [
    "Each row in the popular_comments DataFrame corresponds to a comment that received more than ten replies. For instance, the comment with ID 3734303 received 56 replies.\n",
    "##### Improvements\n",
    "- The column resulting from COUNT(id) was called f0__. That's not a very descriptive name. You can change the name by adding AS NumPosts after you specify the aggregation.\n",
    "- If you are ever unsure what to put inside the COUNT() function, you can do COUNT(1) to count the rows in each group."
   ]
  }
 ],
 "metadata": {
  "interpreter": {
   "hash": "aef50d216617d23c44137179b38f179acf62fcbd1f8228dad7a86fdb424bdac2"
  },
  "kernelspec": {
   "display_name": "Python 3.9.5 ('venv': venv)",
   "language": "python",
   "name": "python3"
  },
  "language_info": {
   "codemirror_mode": {
    "name": "ipython",
    "version": 3
   },
   "file_extension": ".py",
   "mimetype": "text/x-python",
   "name": "python",
   "nbconvert_exporter": "python",
   "pygments_lexer": "ipython3",
   "version": "3.9.5"
  },
  "orig_nbformat": 4
 },
 "nbformat": 4,
 "nbformat_minor": 2
}
