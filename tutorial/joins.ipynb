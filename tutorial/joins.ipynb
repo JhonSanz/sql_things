{
 "cells": [
  {
   "cell_type": "markdown",
   "metadata": {},
   "source": [
    "### Join\n",
    "\n",
    "What if the data you want is spread across multiple tables?\n",
    "\n",
    "Imagine this database:\n",
    "\n",
    "|  ID   |       Name       | Pet_ID |\n",
    "| :---: | :--------------: | :----: |\n",
    "|   1   |  Aubrey little   |   1    |\n",
    "|   2   | Chett Crawsfish  |   3    |\n",
    "|   3   |  Jules Spinner   |   4    |\n",
    "|   4   | Magnus Burnsides |   2    |\n",
    "\n",
    ".\n",
    "\n",
    "|  ID   |        Name        | Animal |\n",
    "| :---: | :----------------: | :----: |\n",
    "|   1   | Dr. Harris Bonkers | Rabbit |\n",
    "|   2   |        Moon        |  Dog   |\n",
    "|   3   |       Ripley       |  Cat   |\n",
    "|   4   |        Tom         |  Cat   |"
   ]
  },
  {
   "cell_type": "code",
   "execution_count": null,
   "metadata": {},
   "outputs": [],
   "source": [
    "QUERY = \"\"\"\n",
    "    SELECT p.Name AS Pet_Name, o.Name AS Owner_Name\n",
    "    FROM `bigquery-public-data.pet_records.pets` AS p\n",
    "    INNER JOIN `bigquery-public-data.pet_records.owners` AS o\n",
    "        ON p.ID = o.Pet_ID\n",
    "\"\"\""
   ]
  }
 ],
 "metadata": {
  "interpreter": {
   "hash": "aef50d216617d23c44137179b38f179acf62fcbd1f8228dad7a86fdb424bdac2"
  },
  "kernelspec": {
   "display_name": "Python 3.9.5 ('venv': venv)",
   "language": "python",
   "name": "python3"
  },
  "language_info": {
   "name": "python",
   "version": "3.9.5"
  },
  "orig_nbformat": 4
 },
 "nbformat": 4,
 "nbformat_minor": 2
}
